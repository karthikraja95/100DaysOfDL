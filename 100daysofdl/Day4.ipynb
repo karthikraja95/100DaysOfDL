{
 "cells": [
  {
   "cell_type": "markdown",
   "metadata": {},
   "source": [
    "# Classifying Fashion-MNIST\n",
    "\n",
    "Now it's your turn to build and train a neural network. You'll be using the [Fashion-MNIST dataset](https://github.com/zalandoresearch/fashion-mnist), a drop-in replacement for the MNIST dataset. MNIST is actually quite trivial with neural networks where you can easily achieve better than 97% accuracy. Fashion-MNIST is a set of 28x28 greyscale images of clothes. It's more complex than MNIST, so it's a better representation of the actual performance of your network, and a better representation of datasets you'll use in the real world.\n",
    "\n",
    "<img src='assets/fashion-mnist-sprite.png' width=500px>\n",
    "\n",
    "In this notebook, you'll build your own neural network. For the most part, you could just copy and paste the code from Part 3, but you wouldn't be learning. It's important for you to write the code yourself and get it to work. Feel free to consult the previous notebooks though as you work through this.\n",
    "\n",
    "First off, let's load the dataset through torchvision."
   ]
  },
  {
   "cell_type": "code",
   "execution_count": 1,
   "metadata": {},
   "outputs": [
    {
     "output_type": "stream",
     "name": "stderr",
     "text": [
      "0it [00:00, ?it/s]Downloading http://fashion-mnist.s3-website.eu-central-1.amazonaws.com/train-images-idx3-ubyte.gz to C:\\Users\\karth/.pytorch/F_MNIST_data/FashionMNIST\\raw\\train-images-idx3-ubyte.gz\n",
      "100%|█████████▉| 26370048/26421880 [01:19<00:00, 332493.60it/s]Extracting C:\\Users\\karth/.pytorch/F_MNIST_data/FashionMNIST\\raw\\train-images-idx3-ubyte.gz to C:\\Users\\karth/.pytorch/F_MNIST_data/FashionMNIST\\raw\n",
      "\n",
      "0it [00:00, ?it/s]\u001b[ADownloading http://fashion-mnist.s3-website.eu-central-1.amazonaws.com/train-labels-idx1-ubyte.gz to C:\\Users\\karth/.pytorch/F_MNIST_data/FashionMNIST\\raw\\train-labels-idx1-ubyte.gz\n",
      "\n",
      "  0%|          | 0/29515 [00:00<?, ?it/s]\u001b[A\n",
      "\n",
      "0it [00:00, ?it/s]\u001b[A\u001b[AExtracting C:\\Users\\karth/.pytorch/F_MNIST_data/FashionMNIST\\raw\\train-labels-idx1-ubyte.gz to C:\\Users\\karth/.pytorch/F_MNIST_data/FashionMNIST\\raw\n",
      "Downloading http://fashion-mnist.s3-website.eu-central-1.amazonaws.com/t10k-images-idx3-ubyte.gz to C:\\Users\\karth/.pytorch/F_MNIST_data/FashionMNIST\\raw\\t10k-images-idx3-ubyte.gz\n",
      "\n",
      "\n",
      "  0%|          | 0/4422102 [00:01<?, ?it/s]\u001b[A\u001b[A\n",
      "\n",
      "\n",
      "0it [00:00, ?it/s]\u001b[A\u001b[A\u001b[AExtracting C:\\Users\\karth/.pytorch/F_MNIST_data/FashionMNIST\\raw\\t10k-images-idx3-ubyte.gz to C:\\Users\\karth/.pytorch/F_MNIST_data/FashionMNIST\\raw\n",
      "Downloading http://fashion-mnist.s3-website.eu-central-1.amazonaws.com/t10k-labels-idx1-ubyte.gz to C:\\Users\\karth/.pytorch/F_MNIST_data/FashionMNIST\\raw\\t10k-labels-idx1-ubyte.gz\n",
      "\n",
      "\n",
      "\n",
      "  0%|          | 0/5148 [00:00<?, ?it/s]\u001b[A\u001b[A\u001b[AExtracting C:\\Users\\karth/.pytorch/F_MNIST_data/FashionMNIST\\raw\\t10k-labels-idx1-ubyte.gz to C:\\Users\\karth/.pytorch/F_MNIST_data/FashionMNIST\\raw\n",
      "Processing...\n",
      "Done!\n"
     ]
    }
   ],
   "source": [
    "import torch\n",
    "from torchvision import datasets, transforms\n",
    "import helper\n",
    "\n",
    "# Define a transform to normalize the data\n",
    "transform = transforms.Compose([transforms.ToTensor(),\n",
    "                                transforms.Normalize((0.5,), (0.5,))])\n",
    "# Download and load the training data\n",
    "trainset = datasets.FashionMNIST('~/.pytorch/F_MNIST_data/', download=True, train=True, transform=transform)\n",
    "trainloader = torch.utils.data.DataLoader(trainset, batch_size=64, shuffle=True)\n",
    "\n",
    "# Download and load the test data\n",
    "testset = datasets.FashionMNIST('~/.pytorch/F_MNIST_data/', download=True, train=False, transform=transform)\n",
    "testloader = torch.utils.data.DataLoader(testset, batch_size=64, shuffle=True)"
   ]
  },
  {
   "cell_type": "markdown",
   "metadata": {},
   "source": [
    "Here we can see one of the images."
   ]
  },
  {
   "cell_type": "code",
   "execution_count": 2,
   "metadata": {},
   "outputs": [
    {
     "output_type": "stream",
     "name": "stderr",
     "text": [
      "26427392it [01:45, 249512.71it/s]\n"
     ]
    },
    {
     "output_type": "display_data",
     "data": {
      "text/plain": "<Figure size 432x288 with 1 Axes>",
      "image/svg+xml": "<?xml version=\"1.0\" encoding=\"utf-8\" standalone=\"no\"?>\r\n<!DOCTYPE svg PUBLIC \"-//W3C//DTD SVG 1.1//EN\"\r\n  \"http://www.w3.org/Graphics/SVG/1.1/DTD/svg11.dtd\">\r\n<!-- Created with matplotlib (https://matplotlib.org/) -->\r\n<svg height=\"231.84pt\" version=\"1.1\" viewBox=\"0 0 231.84 231.84\" width=\"231.84pt\" xmlns=\"http://www.w3.org/2000/svg\" xmlns:xlink=\"http://www.w3.org/1999/xlink\">\r\n <metadata>\r\n  <rdf:RDF xmlns:cc=\"http://creativecommons.org/ns#\" xmlns:dc=\"http://purl.org/dc/elements/1.1/\" xmlns:rdf=\"http://www.w3.org/1999/02/22-rdf-syntax-ns#\">\r\n   <cc:Work>\r\n    <dc:type rdf:resource=\"http://purl.org/dc/dcmitype/StillImage\"/>\r\n    <dc:date>2021-01-06T21:37:33.212836</dc:date>\r\n    <dc:format>image/svg+xml</dc:format>\r\n    <dc:creator>\r\n     <cc:Agent>\r\n      <dc:title>Matplotlib v3.3.2, https://matplotlib.org/</dc:title>\r\n     </cc:Agent>\r\n    </dc:creator>\r\n   </cc:Work>\r\n  </rdf:RDF>\r\n </metadata>\r\n <defs>\r\n  <style type=\"text/css\">*{stroke-linecap:butt;stroke-linejoin:round;}</style>\r\n </defs>\r\n <g id=\"figure_1\">\r\n  <g id=\"patch_1\">\r\n   <path d=\"M 0 231.84 \r\nL 231.84 231.84 \r\nL 231.84 0 \r\nL 0 0 \r\nz\r\n\" style=\"fill:none;\"/>\r\n  </g>\r\n  <g id=\"axes_1\">\r\n   <g id=\"patch_2\">\r\n    <path d=\"M 7.2 224.64 \r\nL 224.64 224.64 \r\nL 224.64 7.2 \r\nL 7.2 7.2 \r\nz\r\n\" style=\"fill:#ffffff;\"/>\r\n   </g>\r\n   <g clip-path=\"url(#p41f7854358)\">\r\n    <image height=\"218\" id=\"imagebdaf824ab1\" transform=\"scale(1 -1)translate(0 -218)\" width=\"218\" x=\"7.2\" xlink:href=\"data:image/png;base64,\r\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\" y=\"-6.64\"/>\r\n   </g>\r\n   <g id=\"matplotlib.axis_1\">\r\n    <g id=\"xtick_1\">\r\n     <g id=\"line2d_1\"/>\r\n    </g>\r\n    <g id=\"xtick_2\">\r\n     <g id=\"line2d_2\"/>\r\n    </g>\r\n    <g id=\"xtick_3\">\r\n     <g id=\"line2d_3\"/>\r\n    </g>\r\n    <g id=\"xtick_4\">\r\n     <g id=\"line2d_4\"/>\r\n    </g>\r\n    <g id=\"xtick_5\">\r\n     <g id=\"line2d_5\"/>\r\n    </g>\r\n    <g id=\"xtick_6\">\r\n     <g id=\"line2d_6\"/>\r\n    </g>\r\n   </g>\r\n   <g id=\"matplotlib.axis_2\">\r\n    <g id=\"ytick_1\">\r\n     <g id=\"line2d_7\"/>\r\n    </g>\r\n    <g id=\"ytick_2\">\r\n     <g id=\"line2d_8\"/>\r\n    </g>\r\n    <g id=\"ytick_3\">\r\n     <g id=\"line2d_9\"/>\r\n    </g>\r\n    <g id=\"ytick_4\">\r\n     <g id=\"line2d_10\"/>\r\n    </g>\r\n    <g id=\"ytick_5\">\r\n     <g id=\"line2d_11\"/>\r\n    </g>\r\n    <g id=\"ytick_6\">\r\n     <g id=\"line2d_12\"/>\r\n    </g>\r\n   </g>\r\n  </g>\r\n </g>\r\n <defs>\r\n  <clipPath id=\"p41f7854358\">\r\n   <rect height=\"217.44\" width=\"217.44\" x=\"7.2\" y=\"7.2\"/>\r\n  </clipPath>\r\n </defs>\r\n</svg>\r\n",
      "image/png": "[encoded data removed]"
     },
     "metadata": {
      "needs_background": "light"
     }
    }
   ],
   "source": [
    "image, label = next(iter(trainloader))\n",
    "helper.imshow(image[0,:]);"
   ]
  },
  {
   "cell_type": "markdown",
   "metadata": {},
   "source": [
    "## Building the network\n",
    "\n",
    "Here you should define your network. As with MNIST, each image is 28x28 which is a total of 784 pixels, and there are 10 classes. You should include at least one hidden layer. We suggest you use ReLU activations for the layers and to return the logits or log-softmax from the forward pass. It's up to you how many layers you add and the size of those layers."
   ]
  },
  {
   "cell_type": "code",
   "execution_count": 3,
   "metadata": {},
   "outputs": [],
   "source": [
    "from torch import nn, optim\n",
    "import torch.nn.functional as F"
   ]
  },
  {
   "cell_type": "code",
   "execution_count": 4,
   "metadata": {},
   "outputs": [],
   "source": [
    "# TODO: Define your network architecture here\n",
    "class Classifier(nn.Module):\n",
    "    def __init__(self):\n",
    "        super().__init__()\n",
    "        self.fc1 = nn.Linear(784, 256)\n",
    "        self.fc2 = nn.Linear(256, 128)\n",
    "        self.fc3 = nn.Linear(128, 64)\n",
    "        self.fc4 = nn.Linear(64, 10)\n",
    "        \n",
    "    def forward(self, x):\n",
    "        # make sure input tensor is flattened\n",
    "        x = x.view(x.shape[0], -1)\n",
    "        \n",
    "        x = F.relu(self.fc1(x))\n",
    "        x = F.relu(self.fc2(x))\n",
    "        x = F.relu(self.fc3(x))\n",
    "        x = F.log_softmax(self.fc4(x), dim=1)\n",
    "        \n",
    "        return x"
   ]
  },
  {
   "cell_type": "markdown",
   "metadata": {},
   "source": [
    "# Train the network\n",
    "\n",
    "Now you should create your network and train it. First you'll want to define [the criterion](http://pytorch.org/docs/master/nn.html#loss-functions) (something like `nn.CrossEntropyLoss` or `nn.NLLLoss`) and [the optimizer](http://pytorch.org/docs/master/optim.html) (typically `optim.SGD` or `optim.Adam`).\n",
    "\n",
    "Then write the training code. Remember the training pass is a fairly straightforward process:\n",
    "\n",
    "* Make a forward pass through the network to get the logits \n",
    "* Use the logits to calculate the loss\n",
    "* Perform a backward pass through the network with `loss.backward()` to calculate the gradients\n",
    "* Take a step with the optimizer to update the weights\n",
    "\n",
    "By adjusting the hyperparameters (hidden units, learning rate, etc), you should be able to get the training loss below 0.4."
   ]
  },
  {
   "cell_type": "code",
   "execution_count": 5,
   "metadata": {},
   "outputs": [],
   "source": [
    "# TODO: Create the network, define the criterion and optimizer\n",
    "model = Classifier()\n",
    "criterion = nn.NLLLoss()\n",
    "optimizer = optim.Adam(model.parameters(), lr=0.003)"
   ]
  },
  {
   "cell_type": "code",
   "execution_count": 6,
   "metadata": {},
   "outputs": [
    {
     "output_type": "stream",
     "name": "stdout",
     "text": [
      "Training loss: 0.5175435371808151\n",
      "Training loss: 0.3874998501400704\n",
      "Training loss: 0.35248602528784323\n",
      "Training loss: 0.3340594950658299\n",
      "Training loss: 0.3157625497181787\n"
     ]
    }
   ],
   "source": [
    "# TODO: Train the network here\n",
    "epochs = 5\n",
    "\n",
    "for e in range(epochs):\n",
    "    running_loss = 0\n",
    "    for images, labels in trainloader:\n",
    "        log_ps = model(images)\n",
    "        loss = criterion(log_ps, labels)\n",
    "        \n",
    "        optimizer.zero_grad()\n",
    "        loss.backward()\n",
    "        optimizer.step()\n",
    "        \n",
    "        running_loss += loss.item()\n",
    "    else:\n",
    "        print(f\"Training loss: {running_loss/len(trainloader)}\")"
   ]
  },
  {
   "cell_type": "code",
   "execution_count": 7,
   "metadata": {},
   "outputs": [
    {
     "output_type": "display_data",
     "data": {
      "text/plain": "<Figure size 432x648 with 2 Axes>",
      "image/png": "[encoded data removed]"
     },
     "metadata": {
      "image/png": {
       "width": 424,
       "height": 216
      },
      "needs_background": "light"
     }
    }
   ],
   "source": [
    "%matplotlib inline\n",
    "%config InlineBackend.figure_format = 'retina'\n",
    "\n",
    "import helper\n",
    "\n",
    "# Test out your network!\n",
    "\n",
    "dataiter = iter(testloader)\n",
    "images, labels = dataiter.next()\n",
    "img = images[1]\n",
    "\n",
    "# TODO: Calculate the class probabilities (softmax) for img\n",
    "ps = torch.exp(model(img))\n",
    "\n",
    "# Plot the image and probabilities\n",
    "helper.view_classify(img, ps, version='Fashion')"
   ]
  },
  {
   "cell_type": "code",
   "execution_count": null,
   "metadata": {},
   "outputs": [],
   "source": []
  }
 ],
 "metadata": {
  "kernelspec": {
   "display_name": "Python 3",
   "language": "python",
   "name": "python3"
  },
  "language_info": {
   "codemirror_mode": {
    "name": "ipython",
    "version": 3
   },
   "file_extension": ".py",
   "mimetype": "text/x-python",
   "name": "python",
   "nbconvert_exporter": "python",
   "pygments_lexer": "ipython3",
   "version": "3.8.5-final"
  }
 },
 "nbformat": 4,
 "nbformat_minor": 2
}